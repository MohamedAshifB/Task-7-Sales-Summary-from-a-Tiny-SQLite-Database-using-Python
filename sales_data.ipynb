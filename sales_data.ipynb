{
 "cells": [
  {
   "cell_type": "code",
   "execution_count": 1,
   "id": "491b6899-fa2c-4c0f-b11c-2c1c51693607",
   "metadata": {},
   "outputs": [],
   "source": [
    "#import libraries\n",
    "import sqlite3\n",
    "import pandas as pd \n",
    "import numpy as np \n",
    "import matplotlib.pyplot as plt "
   ]
  },
  {
   "cell_type": "code",
   "execution_count": 2,
   "id": "0346c7ed-43cc-45e9-912a-2a8c111b0f5b",
   "metadata": {},
   "outputs": [],
   "source": [
    "#Load the four csv files\n",
    "annex1 = pd.read_csv(\"annex1.csv\")\n",
    "annex2 = pd.read_csv(\"annex2.csv\")\n",
    "annex3 = pd.read_csv(\"annex3.csv\")\n",
    "annex4 = pd.read_csv(\"annex4.csv\")"
   ]
  },
  {
   "cell_type": "code",
   "execution_count": 3,
   "id": "ebc3cc37-2379-445c-8e09-50516387a87b",
   "metadata": {},
   "outputs": [
    {
     "data": {
      "text/html": [
       "<div>\n",
       "<style scoped>\n",
       "    .dataframe tbody tr th:only-of-type {\n",
       "        vertical-align: middle;\n",
       "    }\n",
       "\n",
       "    .dataframe tbody tr th {\n",
       "        vertical-align: top;\n",
       "    }\n",
       "\n",
       "    .dataframe thead th {\n",
       "        text-align: right;\n",
       "    }\n",
       "</style>\n",
       "<table border=\"1\" class=\"dataframe\">\n",
       "  <thead>\n",
       "    <tr style=\"text-align: right;\">\n",
       "      <th></th>\n",
       "      <th>Item Code</th>\n",
       "      <th>Item Name</th>\n",
       "      <th>Category Code</th>\n",
       "      <th>Category Name</th>\n",
       "    </tr>\n",
       "  </thead>\n",
       "  <tbody>\n",
       "    <tr>\n",
       "      <th>0</th>\n",
       "      <td>102900005115168</td>\n",
       "      <td>Niushou Shengcai</td>\n",
       "      <td>1011010101</td>\n",
       "      <td>Flower/Leaf Vegetables</td>\n",
       "    </tr>\n",
       "    <tr>\n",
       "      <th>1</th>\n",
       "      <td>102900005115199</td>\n",
       "      <td>Sichuan Red Cedar</td>\n",
       "      <td>1011010101</td>\n",
       "      <td>Flower/Leaf Vegetables</td>\n",
       "    </tr>\n",
       "    <tr>\n",
       "      <th>2</th>\n",
       "      <td>102900005115625</td>\n",
       "      <td>Local Xiaomao Cabbage</td>\n",
       "      <td>1011010101</td>\n",
       "      <td>Flower/Leaf Vegetables</td>\n",
       "    </tr>\n",
       "    <tr>\n",
       "      <th>3</th>\n",
       "      <td>102900005115748</td>\n",
       "      <td>White Caitai</td>\n",
       "      <td>1011010101</td>\n",
       "      <td>Flower/Leaf Vegetables</td>\n",
       "    </tr>\n",
       "    <tr>\n",
       "      <th>4</th>\n",
       "      <td>102900005115762</td>\n",
       "      <td>Amaranth</td>\n",
       "      <td>1011010101</td>\n",
       "      <td>Flower/Leaf Vegetables</td>\n",
       "    </tr>\n",
       "    <tr>\n",
       "      <th>...</th>\n",
       "      <td>...</td>\n",
       "      <td>...</td>\n",
       "      <td>...</td>\n",
       "      <td>...</td>\n",
       "    </tr>\n",
       "    <tr>\n",
       "      <th>246</th>\n",
       "      <td>106958851400125</td>\n",
       "      <td>Haixian Mushroom (Bag) (4)</td>\n",
       "      <td>1011010801</td>\n",
       "      <td>Edible Mushroom</td>\n",
       "    </tr>\n",
       "    <tr>\n",
       "      <th>247</th>\n",
       "      <td>106971533450003</td>\n",
       "      <td>Haixian Mushroom (Bunch)</td>\n",
       "      <td>1011010801</td>\n",
       "      <td>Edible Mushroom</td>\n",
       "    </tr>\n",
       "    <tr>\n",
       "      <th>248</th>\n",
       "      <td>106971533455008</td>\n",
       "      <td>Haixian Mushroom (Bag) (3)</td>\n",
       "      <td>1011010801</td>\n",
       "      <td>Edible Mushroom</td>\n",
       "    </tr>\n",
       "    <tr>\n",
       "      <th>249</th>\n",
       "      <td>106973223300667</td>\n",
       "      <td>Chinese Caterpillar Fungus Flowers (Box) (2)</td>\n",
       "      <td>1011010801</td>\n",
       "      <td>Edible Mushroom</td>\n",
       "    </tr>\n",
       "    <tr>\n",
       "      <th>250</th>\n",
       "      <td>106973990980123</td>\n",
       "      <td>Hfyg Haixian Mushroom (Bunch)</td>\n",
       "      <td>1011010801</td>\n",
       "      <td>Edible Mushroom</td>\n",
       "    </tr>\n",
       "  </tbody>\n",
       "</table>\n",
       "<p>251 rows × 4 columns</p>\n",
       "</div>"
      ],
      "text/plain": [
       "           Item Code                                     Item Name  \\\n",
       "0    102900005115168                              Niushou Shengcai   \n",
       "1    102900005115199                             Sichuan Red Cedar   \n",
       "2    102900005115625                         Local Xiaomao Cabbage   \n",
       "3    102900005115748                                  White Caitai   \n",
       "4    102900005115762                                      Amaranth   \n",
       "..               ...                                           ...   \n",
       "246  106958851400125                    Haixian Mushroom (Bag) (4)   \n",
       "247  106971533450003                      Haixian Mushroom (Bunch)   \n",
       "248  106971533455008                    Haixian Mushroom (Bag) (3)   \n",
       "249  106973223300667  Chinese Caterpillar Fungus Flowers (Box) (2)   \n",
       "250  106973990980123                 Hfyg Haixian Mushroom (Bunch)   \n",
       "\n",
       "     Category Code           Category Name  \n",
       "0       1011010101  Flower/Leaf Vegetables  \n",
       "1       1011010101  Flower/Leaf Vegetables  \n",
       "2       1011010101  Flower/Leaf Vegetables  \n",
       "3       1011010101  Flower/Leaf Vegetables  \n",
       "4       1011010101  Flower/Leaf Vegetables  \n",
       "..             ...                     ...  \n",
       "246     1011010801         Edible Mushroom  \n",
       "247     1011010801         Edible Mushroom  \n",
       "248     1011010801         Edible Mushroom  \n",
       "249     1011010801         Edible Mushroom  \n",
       "250     1011010801         Edible Mushroom  \n",
       "\n",
       "[251 rows x 4 columns]"
      ]
     },
     "execution_count": 3,
     "metadata": {},
     "output_type": "execute_result"
    }
   ],
   "source": [
    "annex1"
   ]
  },
  {
   "cell_type": "code",
   "execution_count": 4,
   "id": "c93a19b4-39c2-405c-8a48-063dfe7eca81",
   "metadata": {},
   "outputs": [
    {
     "data": {
      "text/html": [
       "<div>\n",
       "<style scoped>\n",
       "    .dataframe tbody tr th:only-of-type {\n",
       "        vertical-align: middle;\n",
       "    }\n",
       "\n",
       "    .dataframe tbody tr th {\n",
       "        vertical-align: top;\n",
       "    }\n",
       "\n",
       "    .dataframe thead th {\n",
       "        text-align: right;\n",
       "    }\n",
       "</style>\n",
       "<table border=\"1\" class=\"dataframe\">\n",
       "  <thead>\n",
       "    <tr style=\"text-align: right;\">\n",
       "      <th></th>\n",
       "      <th>Date</th>\n",
       "      <th>Time</th>\n",
       "      <th>Item Code</th>\n",
       "      <th>Quantity Sold (kilo)</th>\n",
       "      <th>Unit Selling Price (RMB/kg)</th>\n",
       "      <th>Sale or Return</th>\n",
       "      <th>Discount (Yes/No)</th>\n",
       "    </tr>\n",
       "  </thead>\n",
       "  <tbody>\n",
       "    <tr>\n",
       "      <th>0</th>\n",
       "      <td>2020-07-01</td>\n",
       "      <td>09:15:07.924</td>\n",
       "      <td>102900005117056</td>\n",
       "      <td>0.396</td>\n",
       "      <td>7.6</td>\n",
       "      <td>sale</td>\n",
       "      <td>No</td>\n",
       "    </tr>\n",
       "    <tr>\n",
       "      <th>1</th>\n",
       "      <td>2020-07-01</td>\n",
       "      <td>09:17:27.295</td>\n",
       "      <td>102900005115960</td>\n",
       "      <td>0.849</td>\n",
       "      <td>3.2</td>\n",
       "      <td>sale</td>\n",
       "      <td>No</td>\n",
       "    </tr>\n",
       "    <tr>\n",
       "      <th>2</th>\n",
       "      <td>2020-07-01</td>\n",
       "      <td>09:17:33.905</td>\n",
       "      <td>102900005117056</td>\n",
       "      <td>0.409</td>\n",
       "      <td>7.6</td>\n",
       "      <td>sale</td>\n",
       "      <td>No</td>\n",
       "    </tr>\n",
       "    <tr>\n",
       "      <th>3</th>\n",
       "      <td>2020-07-01</td>\n",
       "      <td>09:19:45.450</td>\n",
       "      <td>102900005115823</td>\n",
       "      <td>0.421</td>\n",
       "      <td>10.0</td>\n",
       "      <td>sale</td>\n",
       "      <td>No</td>\n",
       "    </tr>\n",
       "    <tr>\n",
       "      <th>4</th>\n",
       "      <td>2020-07-01</td>\n",
       "      <td>09:20:23.686</td>\n",
       "      <td>102900005115908</td>\n",
       "      <td>0.539</td>\n",
       "      <td>8.0</td>\n",
       "      <td>sale</td>\n",
       "      <td>No</td>\n",
       "    </tr>\n",
       "    <tr>\n",
       "      <th>...</th>\n",
       "      <td>...</td>\n",
       "      <td>...</td>\n",
       "      <td>...</td>\n",
       "      <td>...</td>\n",
       "      <td>...</td>\n",
       "      <td>...</td>\n",
       "      <td>...</td>\n",
       "    </tr>\n",
       "    <tr>\n",
       "      <th>878498</th>\n",
       "      <td>2023-06-30</td>\n",
       "      <td>21:35:13.264</td>\n",
       "      <td>102900005115250</td>\n",
       "      <td>0.284</td>\n",
       "      <td>24.0</td>\n",
       "      <td>sale</td>\n",
       "      <td>No</td>\n",
       "    </tr>\n",
       "    <tr>\n",
       "      <th>878499</th>\n",
       "      <td>2023-06-30</td>\n",
       "      <td>21:35:14.358</td>\n",
       "      <td>102900011022764</td>\n",
       "      <td>0.669</td>\n",
       "      <td>12.0</td>\n",
       "      <td>sale</td>\n",
       "      <td>No</td>\n",
       "    </tr>\n",
       "    <tr>\n",
       "      <th>878500</th>\n",
       "      <td>2023-06-30</td>\n",
       "      <td>21:35:20.264</td>\n",
       "      <td>102900005115250</td>\n",
       "      <td>0.125</td>\n",
       "      <td>24.0</td>\n",
       "      <td>sale</td>\n",
       "      <td>No</td>\n",
       "    </tr>\n",
       "    <tr>\n",
       "      <th>878501</th>\n",
       "      <td>2023-06-30</td>\n",
       "      <td>21:35:21.509</td>\n",
       "      <td>102900011016701</td>\n",
       "      <td>0.252</td>\n",
       "      <td>5.2</td>\n",
       "      <td>sale</td>\n",
       "      <td>No</td>\n",
       "    </tr>\n",
       "    <tr>\n",
       "      <th>878502</th>\n",
       "      <td>2023-06-30</td>\n",
       "      <td>21:40:48.248</td>\n",
       "      <td>102900011022764</td>\n",
       "      <td>0.803</td>\n",
       "      <td>12.0</td>\n",
       "      <td>sale</td>\n",
       "      <td>No</td>\n",
       "    </tr>\n",
       "  </tbody>\n",
       "</table>\n",
       "<p>878503 rows × 7 columns</p>\n",
       "</div>"
      ],
      "text/plain": [
       "              Date          Time        Item Code  Quantity Sold (kilo)  \\\n",
       "0       2020-07-01  09:15:07.924  102900005117056                 0.396   \n",
       "1       2020-07-01  09:17:27.295  102900005115960                 0.849   \n",
       "2       2020-07-01  09:17:33.905  102900005117056                 0.409   \n",
       "3       2020-07-01  09:19:45.450  102900005115823                 0.421   \n",
       "4       2020-07-01  09:20:23.686  102900005115908                 0.539   \n",
       "...            ...           ...              ...                   ...   \n",
       "878498  2023-06-30  21:35:13.264  102900005115250                 0.284   \n",
       "878499  2023-06-30  21:35:14.358  102900011022764                 0.669   \n",
       "878500  2023-06-30  21:35:20.264  102900005115250                 0.125   \n",
       "878501  2023-06-30  21:35:21.509  102900011016701                 0.252   \n",
       "878502  2023-06-30  21:40:48.248  102900011022764                 0.803   \n",
       "\n",
       "        Unit Selling Price (RMB/kg) Sale or Return Discount (Yes/No)  \n",
       "0                               7.6           sale                No  \n",
       "1                               3.2           sale                No  \n",
       "2                               7.6           sale                No  \n",
       "3                              10.0           sale                No  \n",
       "4                               8.0           sale                No  \n",
       "...                             ...            ...               ...  \n",
       "878498                         24.0           sale                No  \n",
       "878499                         12.0           sale                No  \n",
       "878500                         24.0           sale                No  \n",
       "878501                          5.2           sale                No  \n",
       "878502                         12.0           sale                No  \n",
       "\n",
       "[878503 rows x 7 columns]"
      ]
     },
     "execution_count": 4,
     "metadata": {},
     "output_type": "execute_result"
    }
   ],
   "source": [
    "annex2"
   ]
  },
  {
   "cell_type": "code",
   "execution_count": 5,
   "id": "9e1eadc2-e717-48f8-ad9e-ea1db3266fdd",
   "metadata": {},
   "outputs": [
    {
     "data": {
      "text/html": [
       "<div>\n",
       "<style scoped>\n",
       "    .dataframe tbody tr th:only-of-type {\n",
       "        vertical-align: middle;\n",
       "    }\n",
       "\n",
       "    .dataframe tbody tr th {\n",
       "        vertical-align: top;\n",
       "    }\n",
       "\n",
       "    .dataframe thead th {\n",
       "        text-align: right;\n",
       "    }\n",
       "</style>\n",
       "<table border=\"1\" class=\"dataframe\">\n",
       "  <thead>\n",
       "    <tr style=\"text-align: right;\">\n",
       "      <th></th>\n",
       "      <th>Date</th>\n",
       "      <th>Item Code</th>\n",
       "      <th>Wholesale Price (RMB/kg)</th>\n",
       "    </tr>\n",
       "  </thead>\n",
       "  <tbody>\n",
       "    <tr>\n",
       "      <th>0</th>\n",
       "      <td>2020-07-01</td>\n",
       "      <td>102900005115762</td>\n",
       "      <td>3.88</td>\n",
       "    </tr>\n",
       "    <tr>\n",
       "      <th>1</th>\n",
       "      <td>2020-07-01</td>\n",
       "      <td>102900005115779</td>\n",
       "      <td>6.72</td>\n",
       "    </tr>\n",
       "    <tr>\n",
       "      <th>2</th>\n",
       "      <td>2020-07-01</td>\n",
       "      <td>102900005115786</td>\n",
       "      <td>3.19</td>\n",
       "    </tr>\n",
       "    <tr>\n",
       "      <th>3</th>\n",
       "      <td>2020-07-01</td>\n",
       "      <td>102900005115793</td>\n",
       "      <td>9.24</td>\n",
       "    </tr>\n",
       "    <tr>\n",
       "      <th>4</th>\n",
       "      <td>2020-07-01</td>\n",
       "      <td>102900005115823</td>\n",
       "      <td>7.03</td>\n",
       "    </tr>\n",
       "    <tr>\n",
       "      <th>...</th>\n",
       "      <td>...</td>\n",
       "      <td>...</td>\n",
       "      <td>...</td>\n",
       "    </tr>\n",
       "    <tr>\n",
       "      <th>55977</th>\n",
       "      <td>2023-06-30</td>\n",
       "      <td>102900051000944</td>\n",
       "      <td>18.00</td>\n",
       "    </tr>\n",
       "    <tr>\n",
       "      <th>55978</th>\n",
       "      <td>2023-06-30</td>\n",
       "      <td>102900051004294</td>\n",
       "      <td>6.45</td>\n",
       "    </tr>\n",
       "    <tr>\n",
       "      <th>55979</th>\n",
       "      <td>2023-06-30</td>\n",
       "      <td>102900051010455</td>\n",
       "      <td>4.48</td>\n",
       "    </tr>\n",
       "    <tr>\n",
       "      <th>55980</th>\n",
       "      <td>2023-06-30</td>\n",
       "      <td>106949711300259</td>\n",
       "      <td>1.45</td>\n",
       "    </tr>\n",
       "    <tr>\n",
       "      <th>55981</th>\n",
       "      <td>2023-06-30</td>\n",
       "      <td>106971533450003</td>\n",
       "      <td>1.95</td>\n",
       "    </tr>\n",
       "  </tbody>\n",
       "</table>\n",
       "<p>55982 rows × 3 columns</p>\n",
       "</div>"
      ],
      "text/plain": [
       "             Date        Item Code  Wholesale Price (RMB/kg)\n",
       "0      2020-07-01  102900005115762                      3.88\n",
       "1      2020-07-01  102900005115779                      6.72\n",
       "2      2020-07-01  102900005115786                      3.19\n",
       "3      2020-07-01  102900005115793                      9.24\n",
       "4      2020-07-01  102900005115823                      7.03\n",
       "...           ...              ...                       ...\n",
       "55977  2023-06-30  102900051000944                     18.00\n",
       "55978  2023-06-30  102900051004294                      6.45\n",
       "55979  2023-06-30  102900051010455                      4.48\n",
       "55980  2023-06-30  106949711300259                      1.45\n",
       "55981  2023-06-30  106971533450003                      1.95\n",
       "\n",
       "[55982 rows x 3 columns]"
      ]
     },
     "execution_count": 5,
     "metadata": {},
     "output_type": "execute_result"
    }
   ],
   "source": [
    "annex3"
   ]
  },
  {
   "cell_type": "code",
   "execution_count": 6,
   "id": "4f92b986-fc57-4498-b3c9-0ec87bd840d7",
   "metadata": {},
   "outputs": [
    {
     "data": {
      "text/html": [
       "<div>\n",
       "<style scoped>\n",
       "    .dataframe tbody tr th:only-of-type {\n",
       "        vertical-align: middle;\n",
       "    }\n",
       "\n",
       "    .dataframe tbody tr th {\n",
       "        vertical-align: top;\n",
       "    }\n",
       "\n",
       "    .dataframe thead th {\n",
       "        text-align: right;\n",
       "    }\n",
       "</style>\n",
       "<table border=\"1\" class=\"dataframe\">\n",
       "  <thead>\n",
       "    <tr style=\"text-align: right;\">\n",
       "      <th></th>\n",
       "      <th>Item Code</th>\n",
       "      <th>Item Name</th>\n",
       "      <th>Loss Rate (%)</th>\n",
       "    </tr>\n",
       "  </thead>\n",
       "  <tbody>\n",
       "    <tr>\n",
       "      <th>0</th>\n",
       "      <td>102900005115168</td>\n",
       "      <td>Niushou Shengcai</td>\n",
       "      <td>4.39</td>\n",
       "    </tr>\n",
       "    <tr>\n",
       "      <th>1</th>\n",
       "      <td>102900005115199</td>\n",
       "      <td>Sichuan Red Cedar</td>\n",
       "      <td>10.46</td>\n",
       "    </tr>\n",
       "    <tr>\n",
       "      <th>2</th>\n",
       "      <td>102900005115250</td>\n",
       "      <td>Xixia Black Mushroom (1)</td>\n",
       "      <td>10.80</td>\n",
       "    </tr>\n",
       "    <tr>\n",
       "      <th>3</th>\n",
       "      <td>102900005115625</td>\n",
       "      <td>Local Xiaomao Cabbage</td>\n",
       "      <td>0.18</td>\n",
       "    </tr>\n",
       "    <tr>\n",
       "      <th>4</th>\n",
       "      <td>102900005115748</td>\n",
       "      <td>White Caitai</td>\n",
       "      <td>8.78</td>\n",
       "    </tr>\n",
       "    <tr>\n",
       "      <th>...</th>\n",
       "      <td>...</td>\n",
       "      <td>...</td>\n",
       "      <td>...</td>\n",
       "    </tr>\n",
       "    <tr>\n",
       "      <th>246</th>\n",
       "      <td>106971533455008</td>\n",
       "      <td>Haixian Mushroom (Bag) (3)</td>\n",
       "      <td>1.30</td>\n",
       "    </tr>\n",
       "    <tr>\n",
       "      <th>247</th>\n",
       "      <td>106971563780002</td>\n",
       "      <td>Xianzongye (Bag) (2)</td>\n",
       "      <td>0.00</td>\n",
       "    </tr>\n",
       "    <tr>\n",
       "      <th>248</th>\n",
       "      <td>106972776821582</td>\n",
       "      <td>Xianzongye (Bag) (3)</td>\n",
       "      <td>9.43</td>\n",
       "    </tr>\n",
       "    <tr>\n",
       "      <th>249</th>\n",
       "      <td>106973223300667</td>\n",
       "      <td>Chinese Caterpillar Fungus Flowers (Box) (2)</td>\n",
       "      <td>11.13</td>\n",
       "    </tr>\n",
       "    <tr>\n",
       "      <th>250</th>\n",
       "      <td>106973990980123</td>\n",
       "      <td>Hfyg Haixian Mushroom (Bunch)</td>\n",
       "      <td>0.12</td>\n",
       "    </tr>\n",
       "  </tbody>\n",
       "</table>\n",
       "<p>251 rows × 3 columns</p>\n",
       "</div>"
      ],
      "text/plain": [
       "           Item Code                                     Item Name  \\\n",
       "0    102900005115168                              Niushou Shengcai   \n",
       "1    102900005115199                             Sichuan Red Cedar   \n",
       "2    102900005115250                      Xixia Black Mushroom (1)   \n",
       "3    102900005115625                         Local Xiaomao Cabbage   \n",
       "4    102900005115748                                  White Caitai   \n",
       "..               ...                                           ...   \n",
       "246  106971533455008                    Haixian Mushroom (Bag) (3)   \n",
       "247  106971563780002                          Xianzongye (Bag) (2)   \n",
       "248  106972776821582                          Xianzongye (Bag) (3)   \n",
       "249  106973223300667  Chinese Caterpillar Fungus Flowers (Box) (2)   \n",
       "250  106973990980123                 Hfyg Haixian Mushroom (Bunch)   \n",
       "\n",
       "     Loss Rate (%)  \n",
       "0             4.39  \n",
       "1            10.46  \n",
       "2            10.80  \n",
       "3             0.18  \n",
       "4             8.78  \n",
       "..             ...  \n",
       "246           1.30  \n",
       "247           0.00  \n",
       "248           9.43  \n",
       "249          11.13  \n",
       "250           0.12  \n",
       "\n",
       "[251 rows x 3 columns]"
      ]
     },
     "execution_count": 6,
     "metadata": {},
     "output_type": "execute_result"
    }
   ],
   "source": [
    "annex4"
   ]
  },
  {
   "cell_type": "code",
   "execution_count": 7,
   "id": "822aab37-37bc-4de3-a1cc-33ce0d45f812",
   "metadata": {},
   "outputs": [
    {
     "data": {
      "text/plain": [
       "Index(['Item Code', 'Item Name', 'Category Code', 'Category Name'], dtype='object')"
      ]
     },
     "execution_count": 7,
     "metadata": {},
     "output_type": "execute_result"
    }
   ],
   "source": [
    "annex1.columns"
   ]
  },
  {
   "cell_type": "code",
   "execution_count": 8,
   "id": "5cf403c2-1a60-4207-bc8d-e5b585b91cb3",
   "metadata": {},
   "outputs": [
    {
     "data": {
      "text/plain": [
       "Index(['Date', 'Time', 'Item Code', 'Quantity Sold (kilo)',\n",
       "       'Unit Selling Price (RMB/kg)', 'Sale or Return', 'Discount (Yes/No)'],\n",
       "      dtype='object')"
      ]
     },
     "execution_count": 8,
     "metadata": {},
     "output_type": "execute_result"
    }
   ],
   "source": [
    "annex2.columns"
   ]
  },
  {
   "cell_type": "code",
   "execution_count": 9,
   "id": "b076760a-6e54-4403-802e-42b27207e81d",
   "metadata": {},
   "outputs": [
    {
     "data": {
      "text/plain": [
       "Index(['Date', 'Item Code', 'Wholesale Price (RMB/kg)'], dtype='object')"
      ]
     },
     "execution_count": 9,
     "metadata": {},
     "output_type": "execute_result"
    }
   ],
   "source": [
    "annex3.columns"
   ]
  },
  {
   "cell_type": "code",
   "execution_count": 10,
   "id": "1b0f50c0-961a-4a6f-980b-a9126557f061",
   "metadata": {},
   "outputs": [
    {
     "data": {
      "text/plain": [
       "Index(['Item Code', 'Item Name', 'Loss Rate (%)'], dtype='object')"
      ]
     },
     "execution_count": 10,
     "metadata": {},
     "output_type": "execute_result"
    }
   ],
   "source": [
    "annex4.columns"
   ]
  },
  {
   "cell_type": "code",
   "execution_count": 11,
   "id": "ba16e605-1226-48b4-a633-777594985b67",
   "metadata": {},
   "outputs": [],
   "source": [
    "#prepare sales data from annex2 (it contains item code, quantity,unit price, date)\n",
    "sales_data = annex2[['Item Code','Quantity Sold (kilo)','Unit Selling Price (RMB/kg)','Date']].copy()"
   ]
  },
  {
   "cell_type": "code",
   "execution_count": 12,
   "id": "ed7f79b9-4838-4981-ad2c-1e538ce275a8",
   "metadata": {},
   "outputs": [],
   "source": [
    "#Merge with annex3 for prices if unit price is missing\n",
    "if 'Unit Selling Price (RMB/kg)' not in sales_data.columns or sales_data['Unit Selling Price (RMB/kg)'].isna().any():\n",
    "    sales_data = sales_data.merge(\n",
    "        annex3[['Item Code','Date','Wholesale Price (RMB/kg)']],\n",
    "        on=['Item Code','Date'], how='left'\n",
    "    )\n",
    "    sales_data['Price'] = sales_data['Unit Selling Price (RMB/kg)'].fillna(sales_datas['Wholesale Price (RMB/kg)'])\n",
    "else:\n",
    "    sales_data['Price'] = sales_data['Unit Selling Price (RMB/kg)']"
   ]
  },
  {
   "cell_type": "code",
   "execution_count": 13,
   "id": "c811493d-d4a4-4f07-8792-cc24d59b0963",
   "metadata": {},
   "outputs": [],
   "source": [
    "#Merge with aannex1 for item name and category name\n",
    "merged_data = sales_data.merge(\n",
    "    annex1[['Item Code','Item Name','Category Name']],\n",
    "    on= 'Item Code', how='left'\n",
    ")"
   ]
  },
  {
   "cell_type": "code",
   "execution_count": 14,
   "id": "572d9224-4287-4acf-8e06-b4d6ee5169e7",
   "metadata": {},
   "outputs": [],
   "source": [
    "#Handle missing values\n",
    "merged_data['Item Name'] = merged_data['Item Name'].fillna('Unknown')\n",
    "merged_data['Category Name'] = merged_data['Category Name'].fillna('Unknown')\n",
    "merged_data['Price'] = merged_data['Price'].fillna(0) \n",
    "merged_data['Quantity Sold (kilo)'] = merged_data['Quantity Sold (kilo)'].fillna(0) "
   ]
  },
  {
   "cell_type": "code",
   "execution_count": 15,
   "id": "3562a5c4-f46c-4cdc-9cfb-9ca5eafe3038",
   "metadata": {},
   "outputs": [],
   "source": [
    "#Select relevant columns\n",
    "merged_data = merged_data[['Item Code', 'Item Name', 'Category Name', 'Quantity Sold (kilo)', 'Price', 'Date']]"
   ]
  },
  {
   "cell_type": "code",
   "execution_count": 16,
   "id": "cf21d609-c8ae-4e3d-b6c9-025b7a0d6a80",
   "metadata": {},
   "outputs": [],
   "source": [
    "#Create SQLite database\n",
    "conn = sqlite3.connect(\"sales_data.db\")\n",
    "cursor = conn.cursor()"
   ]
  },
  {
   "cell_type": "code",
   "execution_count": 17,
   "id": "d189b2f4-3606-49cc-9d74-9f54ccc6ceb5",
   "metadata": {},
   "outputs": [
    {
     "data": {
      "text/plain": [
       "<sqlite3.Cursor at 0x25001f4b1c0>"
      ]
     },
     "execution_count": 17,
     "metadata": {},
     "output_type": "execute_result"
    }
   ],
   "source": [
    "#Create sales table\n",
    "cursor.execute('''\n",
    "    CREATE TABLE IF NOT EXISTS sales (\n",
    "        item_code TEXT,\n",
    "        item_name TEXT,\n",
    "        category_name TEXT,\n",
    "        quantity  REAL,\n",
    "        price REAL,\n",
    "        date TEXT\n",
    "    )\n",
    "''')"
   ]
  },
  {
   "cell_type": "code",
   "execution_count": 18,
   "id": "59efed3c-73a0-4239-8f56-fef9ddb369a1",
   "metadata": {},
   "outputs": [],
   "source": [
    "merged_data.rename(columns={\n",
    "    'Quantity Sold (kilo)': 'quantity',\n",
    "    'Price': 'price',\n",
    "    'Item Code': 'item_code',\n",
    "    'Item Name': 'item_name',\n",
    "    'Category Name': 'category_name',\n",
    "    'Date': 'date'\n",
    "}, inplace=True)\n"
   ]
  },
  {
   "cell_type": "code",
   "execution_count": 19,
   "id": "2e4cec38-72ae-4002-8067-cd51cf52e224",
   "metadata": {},
   "outputs": [
    {
     "data": {
      "text/plain": [
       "878503"
      ]
     },
     "execution_count": 19,
     "metadata": {},
     "output_type": "execute_result"
    }
   ],
   "source": [
    "#Insert data into SQLite\n",
    "merged_data.to_sql('sales',conn,if_exists='replace',index=False)"
   ]
  },
  {
   "cell_type": "code",
   "execution_count": 20,
   "id": "d46fa349-e319-454a-9b1d-f3ad4568f626",
   "metadata": {},
   "outputs": [
    {
     "name": "stdout",
     "output_type": "stream",
     "text": [
      "  \"Category Name\"  total_quantity       revenue\n",
      "0   Category Name      470975.918  3.369766e+06\n"
     ]
    }
   ],
   "source": [
    "#SQL query to summarize by category\n",
    "query = '''\n",
    "    SELECT \"Category Name\",\n",
    "           SUM(quantity) AS total_quantity,\n",
    "           SUM(quantity * price) AS revenue\n",
    "    FROM sales\n",
    "    GROUP BY \"Category Name\"\n",
    "'''\n",
    "df = pd.read_sql_query(query, conn)\n",
    "print(df)\n"
   ]
  },
  {
   "cell_type": "code",
   "execution_count": 21,
   "id": "76ca82c6-64f2-4eb0-8550-3ddfd6681879",
   "metadata": {},
   "outputs": [
    {
     "name": "stdout",
     "output_type": "stream",
     "text": [
      "Sales Summary by Category\n",
      "  \"Category Name\"  total_quantity       revenue\n",
      "0   Category Name      470975.918  3.369766e+06\n"
     ]
    }
   ],
   "source": [
    "#Print results\n",
    "print(\"Sales Summary by Category\")\n",
    "print(df)"
   ]
  },
  {
   "cell_type": "code",
   "execution_count": 22,
   "id": "f7e55f33-9812-4c90-9604-535032898a86",
   "metadata": {},
   "outputs": [
    {
     "name": "stdout",
     "output_type": "stream",
     "text": [
      "Index(['\"Category Name\"', 'total_quantity', 'revenue'], dtype='object')\n"
     ]
    }
   ],
   "source": [
    "print(df.columns)"
   ]
  },
  {
   "cell_type": "code",
   "execution_count": 23,
   "id": "ebed6d15-b9a0-4019-addd-3db5a24eac23",
   "metadata": {},
   "outputs": [
    {
     "name": "stdout",
     "output_type": "stream",
     "text": [
      "['\"Category Name\"', 'total_quantity', 'revenue']\n"
     ]
    }
   ],
   "source": [
    "print([col for col in df.columns])  # shows column names explicitly\n",
    "\n",
    "# or remove spaces from column names:\n",
    "df.columns = df.columns.str.strip()"
   ]
  },
  {
   "cell_type": "code",
   "execution_count": 24,
   "id": "833a8f83-9d11-44f6-9d22-d762d7ecd58b",
   "metadata": {},
   "outputs": [
    {
     "data": {
      "text/plain": [
       "<Axes: xlabel='category_name'>"
      ]
     },
     "execution_count": 24,
     "metadata": {},
     "output_type": "execute_result"
    },
    {
     "data": {
      "image/png": "[encoded data removed]",
      "text/plain": [
       "<Figure size 640x480 with 1 Axes>"
      ]
     },
     "metadata": {},
     "output_type": "display_data"
    }
   ],
   "source": [
    "# Rename column to clean name\n",
    "df.rename(columns={'\"Category Name\"': 'category_name'}, inplace=True)\n",
    "\n",
    "# Define colors list or single color\n",
    "colors = ['red', 'blue', 'green', 'orange', 'purple']  # make sure length matches number of categories\n",
    "\n",
    "# Plot\n",
    "df.plot(kind='bar', x='category_name', y='revenue', color=colors, legend=False)\n"
   ]
  },
  {
   "cell_type": "code",
   "execution_count": 25,
   "id": "ab100926-7800-4f52-98eb-4cc559c2842c",
   "metadata": {},
   "outputs": [
    {
     "name": "stdout",
     "output_type": "stream",
     "text": [
      "['category_name', 'total_quantity', 'revenue']\n"
     ]
    }
   ],
   "source": [
    "# Remove all double quotes from column names\n",
    "df.columns = df.columns.str.replace('\"', '')\n",
    "\n",
    "print(df.columns.tolist())  # Verify the new columns"
   ]
  },
  {
   "cell_type": "code",
   "execution_count": 27,
   "id": "8087ffa7-56ef-45fe-b10b-4c1139020841",
   "metadata": {},
   "outputs": [
    {
     "name": "stdout",
     "output_type": "stream",
     "text": [
      "['category_name', 'total_quantity', 'revenue']\n"
     ]
    }
   ],
   "source": [
    "print(df.columns.tolist())"
   ]
  },
  {
   "cell_type": "code",
   "execution_count": 28,
   "id": "571b2e6b-2d3c-46af-8c03-5d18d43375be",
   "metadata": {},
   "outputs": [
    {
     "name": "stdout",
     "output_type": "stream",
     "text": [
      "'category_name' (length=13)\n",
      "'total_quantity' (length=14)\n",
      "'revenue' (length=7)\n"
     ]
    }
   ],
   "source": [
    "for col in df.columns:\n",
    "    print(f\"'{col}' (length={len(col)})\")"
   ]
  },
  {
   "cell_type": "code",
   "execution_count": 29,
   "id": "b6a731ea-a676-451a-b575-a7cb687b38c6",
   "metadata": {},
   "outputs": [
    {
     "data": {
      "image/png": "[encoded data removed]",
      "text/plain": [
       "<Figure size 1000x600 with 1 Axes>"
      ]
     },
     "metadata": {},
     "output_type": "display_data"
    }
   ],
   "source": [
    "import matplotlib.pyplot as plt\n",
    "\n",
    "plt.figure(figsize=(10, 6))\n",
    "colors = plt.cm.tab10.colors[:len(df)]\n",
    "df.plot(kind='bar', x='category_name', y='revenue', color=colors, legend=False, ax=plt.gca())\n",
    "plt.title('Total Revenue by Category (July 2020 - June 2023)')\n",
    "plt.xlabel('Category')\n",
    "plt.ylabel('Revenue (RMB)')\n",
    "plt.xticks(rotation=45, ha='right')\n",
    "plt.tight_layout()\n",
    "plt.show()"
   ]
  },
  {
   "cell_type": "code",
   "execution_count": 30,
   "id": "3fd21936-1510-4fd8-bc43-0a1294e4b489",
   "metadata": {},
   "outputs": [],
   "source": [
    "#save chart\n",
    "plt.savefig(\"sales_chart.png\")\n",
    "plt.close()"
   ]
  },
  {
   "cell_type": "code",
   "execution_count": 31,
   "id": "ddaf542b-0495-456a-9459-bc6b6fabcae5",
   "metadata": {},
   "outputs": [],
   "source": [
    "#close database connection\n",
    "conn.close()"
   ]
  },
  {
   "cell_type": "code",
   "execution_count": 32,
   "id": "35f8b4bc-64a5-4e74-acf9-b1c536fe371b",
   "metadata": {},
   "outputs": [],
   "source": [
    "#save summary to csv\n",
    "df.to_csv(\"sales_summary.csv\", index=False)"
   ]
  },
  {
   "cell_type": "code",
   "execution_count": 33,
   "id": "0c880b91-2717-4527-8a6e-7218e15bf809",
   "metadata": {},
   "outputs": [
    {
     "name": "stdout",
     "output_type": "stream",
     "text": [
      "\n",
      "Output files generated:\n",
      "- sales_data.db: SQLite database with sales table\n",
      "- sales_chart.png: Bar chart of revenue by category\n",
      "- sales_summary.csv: Summary table of total quantity and revenue by category\n"
     ]
    }
   ],
   "source": [
    "print(\"\\nOutput files generated:\")\n",
    "print(\"- sales_data.db: SQLite database with sales table\")\n",
    "print(\"- sales_chart.png: Bar chart of revenue by category\")\n",
    "print(\"- sales_summary.csv: Summary table of total quantity and revenue by category\")"
   ]
  }
 ],
 "metadata": {
  "kernelspec": {
   "display_name": "Python 3 (ipykernel)",
   "language": "python",
   "name": "python3"
  },
  "language_info": {
   "codemirror_mode": {
    "name": "ipython",
    "version": 3
   },
   "file_extension": ".py",
   "mimetype": "text/x-python",
   "name": "python",
   "nbconvert_exporter": "python",
   "pygments_lexer": "ipython3",
   "version": "3.12.3"
  }
 },
 "nbformat": 4,
 "nbformat_minor": 5
}
